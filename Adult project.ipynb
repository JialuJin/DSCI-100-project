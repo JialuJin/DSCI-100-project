{
 "cells": [
  {
   "cell_type": "code",
   "execution_count": 9,
   "id": "cb1f69f9-040d-4d6d-b209-7e59dae801a2",
   "metadata": {},
   "outputs": [],
   "source": [
    "library(tidyverse)\n",
    "library(repr)\n",
    "options(repr.matrix.max.rows = 6)"
   ]
  },
  {
   "cell_type": "code",
   "execution_count": 1,
   "id": "bf3180cc-0d77-4c4a-a1c9-27556b4ae83b",
   "metadata": {},
   "outputs": [
    {
     "ename": "ERROR",
     "evalue": "Error in read_csv(\"adult.data\"): could not find function \"read_csv\"\n",
     "output_type": "error",
     "traceback": [
      "Error in read_csv(\"adult.data\"): could not find function \"read_csv\"\nTraceback:\n"
     ]
    }
   ],
   "source": [
    "adult_data <- read_csv(\"adult.data\")"
   ]
  },
  {
   "cell_type": "markdown",
   "id": "37434c59-2cd1-4142-8afb-6bcace7cd630",
   "metadata": {},
   "source": [
    "test pull and push"
   ]
  },
  {
   "cell_type": "code",
   "execution_count": null,
   "id": "ed5dc0a5-b718-4cf5-a040-5156b99e45ea",
   "metadata": {},
   "outputs": [],
   "source": []
  }
 ],
 "metadata": {
  "kernelspec": {
   "display_name": "R",
   "language": "R",
   "name": "ir"
  },
  "language_info": {
   "codemirror_mode": "r",
   "file_extension": ".r",
   "mimetype": "text/x-r-source",
   "name": "R",
   "pygments_lexer": "r",
   "version": "4.0.5"
  }
 },
 "nbformat": 4,
 "nbformat_minor": 5
}
